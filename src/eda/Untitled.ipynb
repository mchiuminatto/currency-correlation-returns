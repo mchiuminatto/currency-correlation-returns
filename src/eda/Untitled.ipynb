{
 "cells": [
  {
   "cell_type": "code",
   "execution_count": 17,
   "id": "a9fadd79-7d72-4860-8a50-9f4c7294efdf",
   "metadata": {
    "execution": {
     "iopub.execute_input": "2025-03-16T23:55:23.932356Z",
     "iopub.status.busy": "2025-03-16T23:55:23.932032Z",
     "iopub.status.idle": "2025-03-16T23:55:23.951551Z",
     "shell.execute_reply": "2025-03-16T23:55:23.950709Z",
     "shell.execute_reply.started": "2025-03-16T23:55:23.932331Z"
    }
   },
   "outputs": [
    {
     "ename": "ModuleNotFoundError",
     "evalue": "No module named 'mplfinance'",
     "output_type": "error",
     "traceback": [
      "\u001b[31m---------------------------------------------------------------------------\u001b[39m",
      "\u001b[31mModuleNotFoundError\u001b[39m                       Traceback (most recent call last)",
      "\u001b[36mCell\u001b[39m\u001b[36m \u001b[39m\u001b[32mIn[17]\u001b[39m\u001b[32m, line 3\u001b[39m\n\u001b[32m      1\u001b[39m \u001b[38;5;28;01mimport\u001b[39;00m\u001b[38;5;250m \u001b[39m\u001b[34;01mpandas\u001b[39;00m\u001b[38;5;250m \u001b[39m\u001b[38;5;28;01mas\u001b[39;00m\u001b[38;5;250m \u001b[39m\u001b[34;01mpd\u001b[39;00m\n\u001b[32m      2\u001b[39m \u001b[38;5;28;01mimport\u001b[39;00m\u001b[38;5;250m \u001b[39m\u001b[34;01mnumpy\u001b[39;00m\u001b[38;5;250m \u001b[39m\u001b[38;5;28;01mas\u001b[39;00m\u001b[38;5;250m \u001b[39m\u001b[34;01mnp\u001b[39;00m\n\u001b[32m----> \u001b[39m\u001b[32m3\u001b[39m \u001b[38;5;28;01mimport\u001b[39;00m\u001b[38;5;250m \u001b[39m\u001b[34;01mmplfinance\u001b[39;00m\u001b[38;5;250m \u001b[39m\u001b[38;5;28;01mas\u001b[39;00m\u001b[38;5;250m \u001b[39m\u001b[34;01mmpl\u001b[39;00m\n\u001b[32m      4\u001b[39m \u001b[38;5;28;01mfrom\u001b[39;00m\u001b[38;5;250m \u001b[39m\u001b[34;01mtqtklib\u001b[39;00m\u001b[34;01m.\u001b[39;00m\u001b[34;01mfile_manager\u001b[39;00m\u001b[38;5;250m \u001b[39m\u001b[38;5;28;01mimport\u001b[39;00m file_manager\n",
      "\u001b[31mModuleNotFoundError\u001b[39m: No module named 'mplfinance'"
     ]
    }
   ],
   "source": [
    "import pandas as pd\n",
    "import numpy as np\n",
    "import mplfinance as mpl\n",
    "from tqtklib.file_manager import file_manager\n"
   ]
  },
  {
   "cell_type": "markdown",
   "id": "f313b47a-06ca-4e82-937b-96c3685ca079",
   "metadata": {},
   "source": [
    "# Parameters"
   ]
  },
  {
   "cell_type": "code",
   "execution_count": 7,
   "id": "da517256-14b2-49e8-a3b6-4376d41e6079",
   "metadata": {
    "execution": {
     "iopub.execute_input": "2025-03-16T23:53:59.493297Z",
     "iopub.status.busy": "2025-03-16T23:53:59.492844Z",
     "iopub.status.idle": "2025-03-16T23:53:59.495735Z",
     "shell.execute_reply": "2025-03-16T23:53:59.495360Z",
     "shell.execute_reply.started": "2025-03-16T23:53:59.493276Z"
    }
   },
   "outputs": [],
   "source": [
    "FILE_LIST = [\"EURJPY_5 Mins_Ask_2024.03.16_2025.03.16.csv\", \n",
    "             \"EURUSD_5 Mins_Ask_2024.03.16_2025.03.16.csv\",\n",
    "            \"USDJPY_5 Mins_Ask_2024.03.16_2025.03.16.csv\"]\n",
    "\n",
    "DATA_FOLDER = \"../../data/\""
   ]
  },
  {
   "cell_type": "markdown",
   "id": "b0748da2-f4ad-45b2-9cce-7c923658b5ae",
   "metadata": {},
   "source": [
    "# Open DataSets"
   ]
  },
  {
   "cell_type": "code",
   "execution_count": 9,
   "id": "d2eafc8c-b710-4172-93b7-6e5f56187693",
   "metadata": {
    "execution": {
     "iopub.execute_input": "2025-03-16T23:54:00.203296Z",
     "iopub.status.busy": "2025-03-16T23:54:00.203060Z",
     "iopub.status.idle": "2025-03-16T23:54:00.205813Z",
     "shell.execute_reply": "2025-03-16T23:54:00.205435Z",
     "shell.execute_reply.started": "2025-03-16T23:54:00.203273Z"
    }
   },
   "outputs": [],
   "source": [
    "file_container: dict = {}"
   ]
  },
  {
   "cell_type": "code",
   "execution_count": 15,
   "id": "d0513977-64e3-43a5-9a7d-a36fcee74c1a",
   "metadata": {
    "execution": {
     "iopub.execute_input": "2025-03-16T23:54:58.341199Z",
     "iopub.status.busy": "2025-03-16T23:54:58.340863Z",
     "iopub.status.idle": "2025-03-16T23:54:58.525116Z",
     "shell.execute_reply": "2025-03-16T23:54:58.524802Z",
     "shell.execute_reply.started": "2025-03-16T23:54:58.341174Z"
    }
   },
   "outputs": [
    {
     "name": "stdout",
     "output_type": "stream",
     "text": [
      "Processing EURJPY\n",
      "Processing EURUSD\n",
      "Processing USDJPY\n"
     ]
    }
   ],
   "source": [
    "data_container: dict = {}\n",
    "for file_name in FILE_LIST:\n",
    "    currency = file_name[:6]\n",
    "    print(\"Processing\", currency)\n",
    "    data_container[currency] = pd.read_csv(f\"{DATA_FOLDER}{file_name}\", parse_dates=True, index_col=0)\n",
    "    \n",
    "    "
   ]
  },
  {
   "cell_type": "code",
   "execution_count": 16,
   "id": "10b7c97f-7e69-424d-ae47-02a14cd05b8f",
   "metadata": {
    "execution": {
     "iopub.execute_input": "2025-03-16T23:54:59.555996Z",
     "iopub.status.busy": "2025-03-16T23:54:59.555743Z",
     "iopub.status.idle": "2025-03-16T23:54:59.564969Z",
     "shell.execute_reply": "2025-03-16T23:54:59.564638Z",
     "shell.execute_reply.started": "2025-03-16T23:54:59.555983Z"
    }
   },
   "outputs": [
    {
     "data": {
      "text/html": [
       "<div>\n",
       "<style scoped>\n",
       "    .dataframe tbody tr th:only-of-type {\n",
       "        vertical-align: middle;\n",
       "    }\n",
       "\n",
       "    .dataframe tbody tr th {\n",
       "        vertical-align: top;\n",
       "    }\n",
       "\n",
       "    .dataframe thead th {\n",
       "        text-align: right;\n",
       "    }\n",
       "</style>\n",
       "<table border=\"1\" class=\"dataframe\">\n",
       "  <thead>\n",
       "    <tr style=\"text-align: right;\">\n",
       "      <th></th>\n",
       "      <th>Open</th>\n",
       "      <th>High</th>\n",
       "      <th>Low</th>\n",
       "      <th>Close</th>\n",
       "      <th>Volume</th>\n",
       "    </tr>\n",
       "    <tr>\n",
       "      <th>Time (America/Buenos_Aires)</th>\n",
       "      <th></th>\n",
       "      <th></th>\n",
       "      <th></th>\n",
       "      <th></th>\n",
       "      <th></th>\n",
       "    </tr>\n",
       "  </thead>\n",
       "  <tbody>\n",
       "    <tr>\n",
       "      <th>2024-03-17 18:00:00</th>\n",
       "      <td>162.416</td>\n",
       "      <td>162.416</td>\n",
       "      <td>162.411</td>\n",
       "      <td>162.411</td>\n",
       "      <td>1.80</td>\n",
       "    </tr>\n",
       "    <tr>\n",
       "      <th>2024-03-17 18:05:00</th>\n",
       "      <td>162.405</td>\n",
       "      <td>162.426</td>\n",
       "      <td>162.318</td>\n",
       "      <td>162.328</td>\n",
       "      <td>31.65</td>\n",
       "    </tr>\n",
       "    <tr>\n",
       "      <th>2024-03-17 18:10:00</th>\n",
       "      <td>162.409</td>\n",
       "      <td>162.409</td>\n",
       "      <td>162.297</td>\n",
       "      <td>162.367</td>\n",
       "      <td>56.00</td>\n",
       "    </tr>\n",
       "    <tr>\n",
       "      <th>2024-03-17 18:15:00</th>\n",
       "      <td>162.293</td>\n",
       "      <td>162.340</td>\n",
       "      <td>162.293</td>\n",
       "      <td>162.308</td>\n",
       "      <td>91.62</td>\n",
       "    </tr>\n",
       "    <tr>\n",
       "      <th>2024-03-17 18:20:00</th>\n",
       "      <td>162.310</td>\n",
       "      <td>162.462</td>\n",
       "      <td>162.310</td>\n",
       "      <td>162.431</td>\n",
       "      <td>87.21</td>\n",
       "    </tr>\n",
       "    <tr>\n",
       "      <th>...</th>\n",
       "      <td>...</td>\n",
       "      <td>...</td>\n",
       "      <td>...</td>\n",
       "      <td>...</td>\n",
       "      <td>...</td>\n",
       "    </tr>\n",
       "    <tr>\n",
       "      <th>2025-03-14 17:35:00</th>\n",
       "      <td>161.786</td>\n",
       "      <td>161.799</td>\n",
       "      <td>161.780</td>\n",
       "      <td>161.784</td>\n",
       "      <td>572.10</td>\n",
       "    </tr>\n",
       "    <tr>\n",
       "      <th>2025-03-14 17:40:00</th>\n",
       "      <td>161.785</td>\n",
       "      <td>161.788</td>\n",
       "      <td>161.736</td>\n",
       "      <td>161.747</td>\n",
       "      <td>845.70</td>\n",
       "    </tr>\n",
       "    <tr>\n",
       "      <th>2025-03-14 17:45:00</th>\n",
       "      <td>161.745</td>\n",
       "      <td>161.748</td>\n",
       "      <td>161.707</td>\n",
       "      <td>161.736</td>\n",
       "      <td>696.60</td>\n",
       "    </tr>\n",
       "    <tr>\n",
       "      <th>2025-03-14 17:50:00</th>\n",
       "      <td>161.738</td>\n",
       "      <td>161.748</td>\n",
       "      <td>161.703</td>\n",
       "      <td>161.728</td>\n",
       "      <td>1976.24</td>\n",
       "    </tr>\n",
       "    <tr>\n",
       "      <th>2025-03-14 17:55:00</th>\n",
       "      <td>161.731</td>\n",
       "      <td>161.791</td>\n",
       "      <td>161.710</td>\n",
       "      <td>161.747</td>\n",
       "      <td>735.90</td>\n",
       "    </tr>\n",
       "  </tbody>\n",
       "</table>\n",
       "<p>74424 rows × 5 columns</p>\n",
       "</div>"
      ],
      "text/plain": [
       "                                Open     High      Low    Close  Volume \n",
       "Time (America/Buenos_Aires)                                             \n",
       "2024-03-17 18:00:00          162.416  162.416  162.411  162.411     1.80\n",
       "2024-03-17 18:05:00          162.405  162.426  162.318  162.328    31.65\n",
       "2024-03-17 18:10:00          162.409  162.409  162.297  162.367    56.00\n",
       "2024-03-17 18:15:00          162.293  162.340  162.293  162.308    91.62\n",
       "2024-03-17 18:20:00          162.310  162.462  162.310  162.431    87.21\n",
       "...                              ...      ...      ...      ...      ...\n",
       "2025-03-14 17:35:00          161.786  161.799  161.780  161.784   572.10\n",
       "2025-03-14 17:40:00          161.785  161.788  161.736  161.747   845.70\n",
       "2025-03-14 17:45:00          161.745  161.748  161.707  161.736   696.60\n",
       "2025-03-14 17:50:00          161.738  161.748  161.703  161.728  1976.24\n",
       "2025-03-14 17:55:00          161.731  161.791  161.710  161.747   735.90\n",
       "\n",
       "[74424 rows x 5 columns]"
      ]
     },
     "execution_count": 16,
     "metadata": {},
     "output_type": "execute_result"
    }
   ],
   "source": [
    "data_container[\"EURJPY\"]"
   ]
  },
  {
   "cell_type": "code",
   "execution_count": null,
   "id": "796cc50c-b9c4-44e7-948e-5281684bff1e",
   "metadata": {},
   "outputs": [],
   "source": []
  }
 ],
 "metadata": {
  "kernelspec": {
   "display_name": "Python 3 (ipykernel)",
   "language": "python",
   "name": "python3"
  },
  "language_info": {
   "codemirror_mode": {
    "name": "ipython",
    "version": 3
   },
   "file_extension": ".py",
   "mimetype": "text/x-python",
   "name": "python",
   "nbconvert_exporter": "python",
   "pygments_lexer": "ipython3",
   "version": "3.12.0"
  }
 },
 "nbformat": 4,
 "nbformat_minor": 5
}
